{
 "cells": [
  {
   "cell_type": "markdown",
   "id": "4c13a220",
   "metadata": {},
   "source": [
    "`WAP to find the sum of n natural numbers`"
   ]
  },
  {
   "cell_type": "code",
   "execution_count": 4,
   "id": "25909ad1",
   "metadata": {},
   "outputs": [
    {
     "name": "stdout",
     "output_type": "stream",
     "text": [
      "55\n"
     ]
    }
   ],
   "source": [
    "n = int(input())\n",
    "sum = 0\n",
    "for i in range(n):\n",
    "    sum += (i+1)\n",
    "print (sum)"
   ]
  },
  {
   "cell_type": "markdown",
   "id": "86b03d75",
   "metadata": {},
   "source": [
    "`WAP to read an integer from user. For all non negative integers i < n, print i^2`"
   ]
  },
  {
   "cell_type": "code",
   "execution_count": 5,
   "id": "bb39f431",
   "metadata": {},
   "outputs": [
    {
     "name": "stdout",
     "output_type": "stream",
     "text": [
      "0, 1, 4, 9, 16, "
     ]
    }
   ],
   "source": [
    "n = int(input())\n",
    "for i in range(n):\n",
    "    print(i ** 2, end = \", \")"
   ]
  },
  {
   "cell_type": "markdown",
   "id": "d3265c4f",
   "metadata": {},
   "source": [
    "`WAP that prints all the numbers from 0 to 6 except 3 and 6`"
   ]
  },
  {
   "cell_type": "code",
   "execution_count": 7,
   "id": "07ee2c54",
   "metadata": {},
   "outputs": [
    {
     "name": "stdout",
     "output_type": "stream",
     "text": [
      "0, 1, 2, 4, 5, "
     ]
    }
   ],
   "source": [
    "for i in range(7):\n",
    "    if i == 3 or i == 6:\n",
    "        continue\n",
    "    print(i, end = \", \")"
   ]
  },
  {
   "cell_type": "markdown",
   "id": "e02e62d3",
   "metadata": {},
   "source": [
    "`WAP to get fibonacci series up to n terms`"
   ]
  },
  {
   "cell_type": "code",
   "execution_count": 8,
   "id": "2521c0a2",
   "metadata": {},
   "outputs": [
    {
     "name": "stdout",
     "output_type": "stream",
     "text": [
      "0, 1, 1, 2, 3, 5, 8, 13, 21, "
     ]
    }
   ],
   "source": [
    "n = int(input())\n",
    "a = 0\n",
    "b = 1\n",
    "c = 0\n",
    "for i in range(n):\n",
    "    if i == 0:\n",
    "        print(a, end = \", \")\n",
    "    elif i == 1:\n",
    "        print(b, end = \", \")\n",
    "    else:\n",
    "        c = a + b\n",
    "        print(c, end = \", \")\n",
    "        a = b\n",
    "        b = c"
   ]
  },
  {
   "cell_type": "markdown",
   "id": "1143e469",
   "metadata": {},
   "source": [
    "`WAP to find those numbers which are divisible by 7 and multiples of 5, between 1500 and 2700`\n"
   ]
  },
  {
   "cell_type": "code",
   "execution_count": 9,
   "id": "3513e3e3",
   "metadata": {},
   "outputs": [
    {
     "name": "stdout",
     "output_type": "stream",
     "text": [
      "1505,1540,1575,1610,1645,1680,1715,1750,1785,1820,1855,1890,1925,1960,1995,2030,2065,2100,2135,2170,2205,2240,2275,2310,2345,2380,2415,2450,2485,2520,2555,2590,2625,2660,2695,"
     ]
    }
   ],
   "source": [
    "for i in range(1500, 2700 + 1):\n",
    "    if i % 7 == 0 and i % 5 == 0:\n",
    "        print(i, end = \",\")"
   ]
  },
  {
   "cell_type": "markdown",
   "id": "ee737a50",
   "metadata": {},
   "source": [
    "`WAP to guess a number between 1 and 9`"
   ]
  },
  {
   "cell_type": "code",
   "execution_count": 14,
   "id": "582d0e27",
   "metadata": {},
   "outputs": [
    {
     "name": "stdout",
     "output_type": "stream",
     "text": [
      "Try again\n",
      "Well guessed!\n"
     ]
    }
   ],
   "source": [
    "import random\n",
    "\n",
    "n = random.randint(1,9)\n",
    "correct = False\n",
    "while not correct:\n",
    "    x = int(input(\"Guess the number:\"))\n",
    "    if x == n:\n",
    "        print (\"Well guessed!\")\n",
    "        correct = True\n",
    "    else:\n",
    "        print(\"Try again\")"
   ]
  },
  {
   "cell_type": "markdown",
   "id": "068a9521",
   "metadata": {},
   "source": [
    "`WAP to input n numbers from user; count the number of even and odd numbers from the input numbers and exit until the user input '0'`"
   ]
  },
  {
   "cell_type": "code",
   "execution_count": 16,
   "id": "7510b0cb",
   "metadata": {},
   "outputs": [
    {
     "name": "stdout",
     "output_type": "stream",
     "text": [
      "The even numbers number is: 3\n",
      "The odd numbers number is: 5\n"
     ]
    }
   ],
   "source": [
    "numbers = []\n",
    "zero = False\n",
    "even = 0\n",
    "odd = 0\n",
    "while not zero:\n",
    "    num = int(input(\"Enter a number, 0 will stop:\"))\n",
    "    if num == 0:\n",
    "        break\n",
    "    numbers.append(num)\n",
    "\n",
    "for num in numbers:\n",
    "    if num % 2 == 0:\n",
    "        even += 1\n",
    "    else:\n",
    "        odd += 1\n",
    "print(f\"The even numbers number is: {even}\")\n",
    "print(f\"The odd numbers number is: {odd}\")"
   ]
  },
  {
   "cell_type": "markdown",
   "id": "bdda3bca",
   "metadata": {},
   "source": [
    "`WAP that accepts a string and calculates the number of digits and letters`"
   ]
  },
  {
   "cell_type": "code",
   "execution_count": 17,
   "id": "e7ace014",
   "metadata": {},
   "outputs": [
    {
     "name": "stdout",
     "output_type": "stream",
     "text": [
      "Letters:5\n",
      "Digits:3\n"
     ]
    }
   ],
   "source": [
    "x = input()\n",
    "letters = 0\n",
    "digits = 0\n",
    "for char in x:\n",
    "    if char.isdigit():\n",
    "        digits += 1\n",
    "    elif char.isalpha():\n",
    "        letters += 1\n",
    "    else:\n",
    "        pass\n",
    "print(f\"Letters:{letters}\")\n",
    "print(f\"Digits:{digits}\")"
   ]
  },
  {
   "cell_type": "markdown",
   "id": "3258d9c5",
   "metadata": {},
   "source": [
    "`WAP to develop a rock paper scissor game, restart the game until the user press 'n' when the game ends`"
   ]
  },
  {
   "cell_type": "code",
   "execution_count": 2,
   "id": "7cf6ac56",
   "metadata": {},
   "outputs": [
    {
     "name": "stdout",
     "output_type": "stream",
     "text": [
      "User wins\n",
      "User used: Paper \t CPU used: Rock\n",
      "User wins\n",
      "User used: Scissor \t CPU used: Paper\n",
      "CPU wins\n",
      "User used: Rock \t CPU used: Paper\n"
     ]
    }
   ],
   "source": [
    "import random\n",
    "end = False\n",
    "name = [\"Rock\", \"Paper\", \"Scissor\"]\n",
    "while not end:\n",
    "    user = int(input(\"Rock : 1, Paper: 2, Scissor : 3\"))\n",
    "    cpu = random.randint(1,3)\n",
    "    if (user == 1 and cpu == 2) or (user == 2 and cpu == 3) or (user == 3 and cpu == 1):\n",
    "        print(\"CPU wins\")\n",
    "    elif (cpu == 1 and user == 2) or (cpu == 2 and user == 3) or (cpu == 3 and user == 1):\n",
    "        print(\"User wins\")\n",
    "    else:\n",
    "        print(\"Draw!!\")\n",
    "    print(f\"User used: {name[user - 1]} \\t CPU used: {name[cpu - 1]}\")\n",
    "    char = input(\"continue?(y/n)\")\n",
    "    if char == 'n':\n",
    "        end = True"
   ]
  },
  {
   "cell_type": "markdown",
   "id": "4312f4c9",
   "metadata": {},
   "source": [
    "`WAP to create the multiplication table (1 to 10) of a number`"
   ]
  },
  {
   "cell_type": "code",
   "execution_count": 5,
   "id": "5d92fcb6",
   "metadata": {},
   "outputs": [
    {
     "name": "stdout",
     "output_type": "stream",
     "text": [
      "9 * 1 = 9\n",
      "9 * 2 = 18\n",
      "9 * 3 = 27\n",
      "9 * 4 = 36\n",
      "9 * 5 = 45\n",
      "9 * 6 = 54\n",
      "9 * 7 = 63\n",
      "9 * 8 = 72\n",
      "9 * 9 = 81\n",
      "9 * 10 = 90\n"
     ]
    }
   ],
   "source": [
    "x = int(input())\n",
    "for i in range(10):\n",
    "    print(f\"{x} * {i + 1} = {x * (i + 1)}\")"
   ]
  },
  {
   "cell_type": "markdown",
   "id": "2e87aa98",
   "metadata": {},
   "source": [
    "`WAP that accepts from the user and reverses it`"
   ]
  },
  {
   "cell_type": "code",
   "execution_count": 6,
   "id": "bfdd64ca",
   "metadata": {},
   "outputs": [
    {
     "name": "stdout",
     "output_type": "stream",
     "text": [
      "Reverse word is diS\n"
     ]
    }
   ],
   "source": [
    "x = input()\n",
    "print(f\"Reverse word is {x[::-1]}\")"
   ]
  },
  {
   "cell_type": "markdown",
   "id": "0a6bec12",
   "metadata": {},
   "source": [
    "`WAP to construct the following loop`"
   ]
  },
  {
   "cell_type": "code",
   "execution_count": 7,
   "id": "74fb9d28",
   "metadata": {},
   "outputs": [
    {
     "name": "stdout",
     "output_type": "stream",
     "text": [
      "*    \n",
      "**   \n",
      "***  \n",
      "**** \n",
      "*****\n",
      "**** \n",
      "***  \n",
      "**   \n",
      "*    \n"
     ]
    }
   ],
   "source": [
    "stars = 1\n",
    "space = 4\n",
    "for i in range(5):\n",
    "    print(\"*\" * stars + space * \" \" )\n",
    "    stars += 1\n",
    "    space -= 1\n",
    "stars = 4\n",
    "space = 1\n",
    "for i in range(4):\n",
    "    print(\"*\" * stars + space * \" \")\n",
    "    stars -= 1\n",
    "    space += 1"
   ]
  }
 ],
 "metadata": {
  "kernelspec": {
   "display_name": "Python 3",
   "language": "python",
   "name": "python3"
  },
  "language_info": {
   "codemirror_mode": {
    "name": "ipython",
    "version": 3
   },
   "file_extension": ".py",
   "mimetype": "text/x-python",
   "name": "python",
   "nbconvert_exporter": "python",
   "pygments_lexer": "ipython3",
   "version": "3.13.5"
  }
 },
 "nbformat": 4,
 "nbformat_minor": 5
}
