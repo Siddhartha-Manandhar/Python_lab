{
 "cells": [
  {
   "cell_type": "markdown",
   "id": "6df03ac9",
   "metadata": {},
   "source": [
    "`Print all the even numbers from 0 to 10`"
   ]
  },
  {
   "cell_type": "code",
   "execution_count": 4,
   "id": "28562dcd",
   "metadata": {},
   "outputs": [
    {
     "name": "stdout",
     "output_type": "stream",
     "text": [
      "0\n",
      "2\n",
      "4\n",
      "6\n",
      "8\n",
      "10\n"
     ]
    }
   ],
   "source": [
    "for i in range(11):\n",
    "    if i % 2 == 0:\n",
    "        print(i)"
   ]
  },
  {
   "cell_type": "markdown",
   "id": "a4f2f295",
   "metadata": {},
   "source": [
    "`Add logic to print two lines`\n",
    "`First line should contain integer division //`\n",
    "`Second line should contain float division`"
   ]
  },
  {
   "cell_type": "code",
   "execution_count": 5,
   "id": "346378cb",
   "metadata": {},
   "outputs": [
    {
     "name": "stdout",
     "output_type": "stream",
     "text": [
      "6.0\n"
     ]
    },
    {
     "data": {
      "text/plain": [
       "6.1"
      ]
     },
     "execution_count": 5,
     "metadata": {},
     "output_type": "execute_result"
    }
   ],
   "source": [
    "x = 30.5\n",
    "y = 5\n",
    "result = x // y\n",
    "print(result)\n",
    "result = x / y\n",
    "result"
   ]
  },
  {
   "cell_type": "markdown",
   "id": "bfe9cab6",
   "metadata": {},
   "source": [
    "`Evaluate the following expression`"
   ]
  },
  {
   "cell_type": "code",
   "execution_count": 6,
   "id": "d56000cb",
   "metadata": {},
   "outputs": [
    {
     "name": "stdout",
     "output_type": "stream",
     "text": [
      "44\n",
      "29\n",
      "34\n",
      "False\n",
      "False\n",
      "True\n",
      "False\n",
      "False\n",
      "True\n"
     ]
    }
   ],
   "source": [
    "\n",
    "print(4 * (6 + 5))\n",
    "print(4 * 6 + 5)\n",
    "print(4 + 6 * 5)\n",
    "print((5 > 4) and (3 == 5))\n",
    "print(not (5 > 4))\n",
    "print((5 > 4) or (3 == 5))\n",
    "print(not (5 > 4) and (3 == 5))\n",
    "print((True and True) and (True == False))\n",
    "print((not False) or (not True))"
   ]
  },
  {
   "cell_type": "markdown",
   "id": "82e02b90",
   "metadata": {},
   "source": [
    "`What is the type of the result of the expression 3*1.5+4`"
   ]
  },
  {
   "cell_type": "code",
   "execution_count": 8,
   "id": "a4688f15",
   "metadata": {},
   "outputs": [
    {
     "name": "stdout",
     "output_type": "stream",
     "text": [
      "The answer is 8.5 and its type is <class 'float'>.\n"
     ]
    }
   ],
   "source": [
    "result = 3 * 1.5 + 4\n",
    "print(f\"The answer is {result} and its type is {type(result)}.\")"
   ]
  },
  {
   "cell_type": "markdown",
   "id": "8564e9f4",
   "metadata": {},
   "source": [
    "`Find the numbers square root as well as square`"
   ]
  },
  {
   "cell_type": "code",
   "execution_count": 10,
   "id": "61d1ed5e",
   "metadata": {},
   "outputs": [
    {
     "name": "stdout",
     "output_type": "stream",
     "text": [
      "Square root of 69 is 8.31\n",
      "Square of 69 is 4761\n"
     ]
    }
   ],
   "source": [
    "import math\n",
    "x = 69\n",
    "square_root = math.sqrt(x)\n",
    "square = x ** 2\n",
    "print(f\"Square root of {x} is {square_root:.2f}\")\n",
    "print(f\"Square of {x} is {square}\")"
   ]
  },
  {
   "cell_type": "markdown",
   "id": "9f16b677",
   "metadata": {},
   "source": [
    "`WAP whether a variable is int or float or string`"
   ]
  },
  {
   "cell_type": "code",
   "execution_count": 11,
   "id": "474d1777",
   "metadata": {},
   "outputs": [
    {
     "name": "stdout",
     "output_type": "stream",
     "text": [
      "X is <class 'int'> and has value 55\n",
      "Y is <class 'float'> and has value 6.9\n",
      "Z is <class 'str'> and has value Name\n"
     ]
    }
   ],
   "source": [
    "x = 55\n",
    "y = 6.9\n",
    "z = \"Name\"\n",
    "print(f\"X is {type(x)} and has value {x}\")\n",
    "print(f\"Y is {type(y)} and has value {y}\")\n",
    "print(f\"Z is {type(z)} and has value {z}\")"
   ]
  },
  {
   "cell_type": "markdown",
   "id": "52b206e1",
   "metadata": {},
   "source": [
    "`WAP to test whether a variable is list, tuple or set`"
   ]
  },
  {
   "cell_type": "code",
   "execution_count": 13,
   "id": "90a026fe",
   "metadata": {},
   "outputs": [
    {
     "name": "stdout",
     "output_type": "stream",
     "text": [
      "my_list is <class 'list'>\n",
      "my_tuple is <class 'tuple'>\n",
      "my_set is <class 'set'>\n"
     ]
    }
   ],
   "source": [
    "my_list = [1,2,3,4,5]\n",
    "my_tuple = (1,2,3,4,5)\n",
    "my_set = {1,2,3,4,5}\n",
    "\n",
    "print(f\"my_list is {type(my_list)}\")\n",
    "print(f\"my_tuple is {type(my_tuple)}\")\n",
    "print(f\"my_set is {type(my_set)}\")"
   ]
  },
  {
   "cell_type": "markdown",
   "id": "ab54ba14",
   "metadata": {},
   "source": [
    "`WAP to print the String in following format`"
   ]
  },
  {
   "cell_type": "code",
   "execution_count": null,
   "id": "5a9c0263",
   "metadata": {},
   "outputs": [
    {
     "name": "stdout",
     "output_type": "stream",
     "text": [
      "Twinkle Twinkle Little Star\n",
      " How I wonder what you are\n",
      " \tUp above the also high\n",
      " \tLike a diamond in the sky\n",
      "Twinkle Twinkle Little Star\n",
      " How I wonder what you are\n"
     ]
    }
   ],
   "source": [
    "print(\"Twinkle Twinkle Little Star\")\n",
    "print(\" How I wonder what you are\")\n",
    "print(\" \\tUp above the also high\")\n",
    "print(\" \\tLike a diamond in the sky\")\n",
    "print(\"Twinkle Twinkle Little Star\")\n",
    "print(\" How I wonder what you are\")"
   ]
  },
  {
   "cell_type": "markdown",
   "id": "cd9a0d55",
   "metadata": {},
   "source": [
    "`WAP to find the version of python`"
   ]
  },
  {
   "cell_type": "code",
   "execution_count": 17,
   "id": "e0c29da6",
   "metadata": {},
   "outputs": [
    {
     "name": "stdout",
     "output_type": "stream",
     "text": [
      "3.13.5 (tags/v3.13.5:6cb20a2, Jun 11 2025, 16:15:46) [MSC v.1943 64 bit (AMD64)]\n"
     ]
    }
   ],
   "source": [
    "import sys\n",
    "print(sys.version)"
   ]
  },
  {
   "cell_type": "markdown",
   "id": "6ec0cd02",
   "metadata": {},
   "source": [
    "`WAP to find first and last color of the list`"
   ]
  },
  {
   "cell_type": "code",
   "execution_count": 18,
   "id": "2497c632",
   "metadata": {},
   "outputs": [
    {
     "name": "stdout",
     "output_type": "stream",
     "text": [
      "The first color is Red\n",
      "The last color is Blue\n"
     ]
    }
   ],
   "source": [
    "colors = [\"Red\", \"Green\", \"White\", \"Black\", \"Blue\"]\n",
    "print(f\"The first color is {colors[0]}\")\n",
    "print(f\"The last color is {colors[-1]}\")"
   ]
  },
  {
   "cell_type": "markdown",
   "id": "190a11a8",
   "metadata": {},
   "source": [
    "`WAP to get volume of a sphere with radius 6`"
   ]
  },
  {
   "cell_type": "code",
   "execution_count": null,
   "id": "e8b9da64",
   "metadata": {},
   "outputs": [
    {
     "name": "stdout",
     "output_type": "stream",
     "text": [
      "The volume is 904.7786842338603\n"
     ]
    }
   ],
   "source": [
    "import math\n",
    "Radius = 6\n",
    "volume = (4/3) * math.pi * Radius ** 3\n",
    "print(f\"The volume is {volume}\")"
   ]
  },
  {
   "cell_type": "markdown",
   "id": "863f6262",
   "metadata": {},
   "source": [
    "`WAP to calculate the sum of three numbers. If those value are equal return three times their sum`"
   ]
  },
  {
   "cell_type": "code",
   "execution_count": 22,
   "id": "085e458d",
   "metadata": {},
   "outputs": [
    {
     "name": "stdout",
     "output_type": "stream",
     "text": [
      "Three times their sum is 36\n"
     ]
    }
   ],
   "source": [
    "x = int(input())\n",
    "y = int(input())\n",
    "z = int(input())\n",
    "\n",
    "if (x == y == z):\n",
    "    print(f\"Three times their sum is {3 * (x+y+z)}\")\n",
    "else:\n",
    "    print(f\"The sum is {x + y + z}\")"
   ]
  },
  {
   "cell_type": "markdown",
   "id": "33c7d0e8",
   "metadata": {},
   "source": [
    "`WAP to calculate the sum of two intger. If the sum is between 15 and 20 return 20`"
   ]
  },
  {
   "cell_type": "code",
   "execution_count": 29,
   "id": "32942bf7",
   "metadata": {},
   "outputs": [
    {
     "name": "stdout",
     "output_type": "stream",
     "text": [
      "The sum is 14\n"
     ]
    }
   ],
   "source": [
    "x = int(input())\n",
    "y = int(input())\n",
    "\n",
    "sum = x + y\n",
    "if (sum in range(15,21)):\n",
    "    print(f\"The sum is {20}\")\n",
    "\n",
    "else:\n",
    "    print(f\"The sum is {sum}\")"
   ]
  },
  {
   "cell_type": "markdown",
   "id": "5ce3f2f0",
   "metadata": {},
   "source": [
    "`WAP to display your name age address on different lines.`"
   ]
  },
  {
   "cell_type": "code",
   "execution_count": 30,
   "id": "32b7bb64",
   "metadata": {},
   "outputs": [
    {
     "name": "stdout",
     "output_type": "stream",
     "text": [
      "Name:  Siddhartha Manandhar\n",
      "Age:  69\n",
      "Address:  Gamcha-4, Suryabinayak\n"
     ]
    }
   ],
   "source": [
    "name = \"Siddhartha Manandhar\"\n",
    "age = 69\n",
    "address = \"Gamcha-4, Suryabinayak\"\n",
    "print(\"Name: \",name)\n",
    "print(\"Age: \",age)\n",
    "print(\"Address: \",address)"
   ]
  },
  {
   "cell_type": "markdown",
   "id": "6bb613c5",
   "metadata": {},
   "source": [
    "`WAP to evaluate (x + y) * (x + y)`\n"
   ]
  },
  {
   "cell_type": "code",
   "execution_count": 31,
   "id": "0e00e8bc",
   "metadata": {},
   "outputs": [
    {
     "name": "stdout",
     "output_type": "stream",
     "text": [
      "(4 + 3) ^ 2 = 49\n"
     ]
    }
   ],
   "source": [
    "x = 3\n",
    "y = 4\n",
    "print(f\"({y} + {x}) ^ {2} = {(x + y) * (x + y)}\")"
   ]
  },
  {
   "cell_type": "markdown",
   "id": "8226b37c",
   "metadata": {},
   "source": [
    "`WAP to concatnate N string`"
   ]
  },
  {
   "cell_type": "code",
   "execution_count": 1,
   "id": "3183e404",
   "metadata": {},
   "outputs": [
    {
     "name": "stdout",
     "output_type": "stream",
     "text": [
      "SidMidCid\n"
     ]
    }
   ],
   "source": [
    "n = int(input(\"Enter a number: \"))\n",
    "combined_str = \"\"\n",
    "for i in range(n):\n",
    "    line = input()\n",
    "    combined_str += line \n",
    "print(combined_str)"
   ]
  },
  {
   "cell_type": "markdown",
   "id": "a64ebb9d",
   "metadata": {},
   "source": [
    "`Given x = 30 and Y = 20. WAP to print \"30 + 20 = 50\"`"
   ]
  },
  {
   "cell_type": "code",
   "execution_count": 3,
   "id": "b54c6690",
   "metadata": {},
   "outputs": [
    {
     "name": "stdout",
     "output_type": "stream",
     "text": [
      "30 + 20 = 50\n"
     ]
    }
   ],
   "source": [
    "X = 30\n",
    "Y = 20\n",
    "print(f\"{X} + {Y} = {X +  Y}\")"
   ]
  },
  {
   "cell_type": "markdown",
   "id": "616e9b69",
   "metadata": {},
   "source": [
    "`Print diff type of variables`"
   ]
  },
  {
   "cell_type": "code",
   "execution_count": 8,
   "id": "d2e76902",
   "metadata": {},
   "outputs": [
    {
     "name": "stdout",
     "output_type": "stream",
     "text": [
      "5 is a <class 'int'>\n",
      "6.9 is a <class 'float'>\n",
      "Sid is a <class 'str'>\n",
      "True is a <class 'bool'>\n",
      "(2+3j) is a <class 'complex'>\n"
     ]
    }
   ],
   "source": [
    "x = 5\n",
    "y = 6.9\n",
    "z = \"Sid\"\n",
    "a = True\n",
    "b = 2 + 3j\n",
    "print(f\"{x} is a {type(x)}\")\n",
    "print(f\"{y} is a {type(y)}\")\n",
    "print(f\"{z} is a {type(z)}\")\n",
    "print(f\"{a} is a {type(a)}\")\n",
    "print(f\"{b} is a {type(b)}\")"
   ]
  },
  {
   "cell_type": "markdown",
   "id": "605df2e5",
   "metadata": {},
   "source": [
    "`WAP to enter user name and greet them using their name`"
   ]
  },
  {
   "cell_type": "code",
   "execution_count": 9,
   "id": "d275412d",
   "metadata": {},
   "outputs": [
    {
     "name": "stdout",
     "output_type": "stream",
     "text": [
      "Greetings!! Sid\n"
     ]
    }
   ],
   "source": [
    "name = input(\"Enter your name\")\n",
    "print(f\"Greetings!! {name}\")"
   ]
  },
  {
   "cell_type": "markdown",
   "id": "caa15486",
   "metadata": {},
   "source": [
    "`WAP to ask user for number of roses and type cast it into integer`"
   ]
  },
  {
   "cell_type": "code",
   "execution_count": 10,
   "id": "c914e4ed",
   "metadata": {},
   "outputs": [
    {
     "name": "stdout",
     "output_type": "stream",
     "text": [
      "The number of roses is 69\n"
     ]
    }
   ],
   "source": [
    "Roses = int(input(\"Enter the number of roses:\"))\n",
    "print(f\"The number of roses is {Roses}\")"
   ]
  }
 ],
 "metadata": {
  "kernelspec": {
   "display_name": "Python 3",
   "language": "python",
   "name": "python3"
  },
  "language_info": {
   "codemirror_mode": {
    "name": "ipython",
    "version": 3
   },
   "file_extension": ".py",
   "mimetype": "text/x-python",
   "name": "python",
   "nbconvert_exporter": "python",
   "pygments_lexer": "ipython3",
   "version": "3.13.5"
  }
 },
 "nbformat": 4,
 "nbformat_minor": 5
}
