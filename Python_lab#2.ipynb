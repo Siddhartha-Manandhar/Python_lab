{
 "cells": [
  {
   "cell_type": "markdown",
   "id": "940f3d02",
   "metadata": {},
   "source": [
    "`WAP to calculate the difference between a given number and 17. If the number is greater than 17, return twice the absolute difference.`"
   ]
  },
  {
   "cell_type": "code",
   "execution_count": 5,
   "id": "3f9dbcca",
   "metadata": {},
   "outputs": [
    {
     "name": "stdout",
     "output_type": "stream",
     "text": [
      "4\n"
     ]
    }
   ],
   "source": [
    "x = int(input())\n",
    "answer = 17 - x\n",
    "if answer < 0:\n",
    "    answer = 2 * abs(answer)\n",
    "print(answer)\n"
   ]
  },
  {
   "cell_type": "markdown",
   "id": "3572d3b4",
   "metadata": {},
   "source": [
    "`WAP that determines whether a given number (accepted from the user) is even or odd, and print an appropriate message to the user`"
   ]
  },
  {
   "cell_type": "code",
   "execution_count": 6,
   "id": "e04f2679",
   "metadata": {},
   "outputs": [
    {
     "name": "stdout",
     "output_type": "stream",
     "text": [
      "69 is an odd number\n"
     ]
    }
   ],
   "source": [
    "x = int(input())\n",
    "if x % 2 == 0:\n",
    "    print(f\"{x} is an even number\")\n",
    "else:\n",
    "    print(f\"{x} is an odd number\")"
   ]
  },
  {
   "cell_type": "markdown",
   "id": "04b7c9a5",
   "metadata": {},
   "source": [
    "`WAP to count number 4 in a given list`"
   ]
  },
  {
   "cell_type": "code",
   "execution_count": 7,
   "id": "bf641360",
   "metadata": {},
   "outputs": [
    {
     "name": "stdout",
     "output_type": "stream",
     "text": [
      "4 in the list apprears 4 times. \n"
     ]
    }
   ],
   "source": [
    "x = [1,2,3,4,4,3,2,1,6,4,9,4]\n",
    "count = x.count(4)\n",
    "print(f\"4 in the list apprears {count} times. \")"
   ]
  },
  {
   "cell_type": "markdown",
   "id": "7fad5255",
   "metadata": {},
   "source": [
    "`WAP to swap two variables`"
   ]
  },
  {
   "cell_type": "code",
   "execution_count": 11,
   "id": "9f4c310a",
   "metadata": {},
   "outputs": [
    {
     "name": "stdout",
     "output_type": "stream",
     "text": [
      "a is 9 and b is 6\n",
      "a is 6 and b is 9\n"
     ]
    }
   ],
   "source": [
    "a = 9\n",
    "b = 6\n",
    "print(f\"a is {a} and b is {b}\")\n",
    "a, b = b, a\n",
    "print(f\"a is {a} and b is {b}\")"
   ]
  },
  {
   "cell_type": "markdown",
   "id": "65f4a576",
   "metadata": {},
   "source": [
    "`WAP to check whether a variable is an integer, or string, or a list, or tuple, or set`"
   ]
  },
  {
   "cell_type": "code",
   "execution_count": 12,
   "id": "81fa1f51",
   "metadata": {},
   "outputs": [
    {
     "name": "stdout",
     "output_type": "stream",
     "text": [
      "x = 9 is a <class 'int'> \n",
      "x = Sid is a <class 'str'> \n",
      "x = [1, 2, 3] is a <class 'list'> \n",
      "x = {1, 2, 3} is a <class 'set'> \n",
      "x = (1, 2, 3) is a <class 'tuple'> \n"
     ]
    }
   ],
   "source": [
    "x = 9\n",
    "y = \"Sid\"\n",
    "z = [1,2,3]\n",
    "a = {1,2,3}\n",
    "b = (1,2,3)\n",
    "print(f\"x = {x} is a {type(x)} \")\n",
    "print(f\"x = {y} is a {type(y)} \")\n",
    "print(f\"x = {z} is a {type(z)} \")\n",
    "print(f\"x = {a} is a {type(a)} \")\n",
    "print(f\"x = {b} is a {type(b)} \")\n"
   ]
  },
  {
   "cell_type": "markdown",
   "id": "4f4db298",
   "metadata": {},
   "source": [
    "`WAP that takes two number as input and prints their sum, difference, prooduct, and quotient`"
   ]
  },
  {
   "cell_type": "code",
   "execution_count": 13,
   "id": "447b3059",
   "metadata": {},
   "outputs": [
    {
     "name": "stdout",
     "output_type": "stream",
     "text": [
      "The sum is 15.\n",
      "The difference is 3.\n",
      "The product is 54.\n",
      "The quotient is 1.\n"
     ]
    }
   ],
   "source": [
    "x = int(input())\n",
    "y = int(input())\n",
    "print(f\"The sum is {x + y}.\")\n",
    "print(f\"The difference is {x - y}.\")\n",
    "print(f\"The product is {x * y}.\")\n",
    "print(f\"The quotient is {x // y}.\")\n"
   ]
  },
  {
   "cell_type": "markdown",
   "id": "69376d0c",
   "metadata": {},
   "source": [
    "`Take an input from the user then reverse the string using slicing`"
   ]
  },
  {
   "cell_type": "code",
   "execution_count": 15,
   "id": "af4f9ea4",
   "metadata": {},
   "outputs": [
    {
     "name": "stdout",
     "output_type": "stream",
     "text": [
      "diS\n"
     ]
    }
   ],
   "source": [
    "x = input()\n",
    "print(x[::-1])"
   ]
  },
  {
   "cell_type": "markdown",
   "id": "4c639951",
   "metadata": {},
   "source": [
    "`Write code to take input from user and store it in a variable spam then print Hello if 1 is stored in spam, print Hi if 2 is stored in spam, and print Greetings! if anything else is stored in spam.`"
   ]
  },
  {
   "cell_type": "code",
   "execution_count": 16,
   "id": "ccf19adf",
   "metadata": {},
   "outputs": [
    {
     "name": "stdout",
     "output_type": "stream",
     "text": [
      "Hi\n"
     ]
    }
   ],
   "source": [
    "spam = int(input())\n",
    "if spam == 1:\n",
    "    print(\"Hello\")\n",
    "elif spam == 2:\n",
    "    print(\"Hi\")\n",
    "else:\n",
    "    print(\"Greetings!\")"
   ]
  },
  {
   "cell_type": "markdown",
   "id": "22483f6d",
   "metadata": {},
   "source": [
    "`WAP that takes two numbers as input and prints their sum, difference, product, and quotient using match cases.`\n"
   ]
  },
  {
   "cell_type": "code",
   "execution_count": 19,
   "id": "867e57a6",
   "metadata": {},
   "outputs": [
    {
     "name": "stdout",
     "output_type": "stream",
     "text": [
      "1. Sum\n",
      "2. Difference\n",
      "3. Product\n",
      "4. Quotient\n",
      "The quotient is 23.\n"
     ]
    }
   ],
   "source": [
    "x = int(input())\n",
    "y = int(input())\n",
    "print(\"1. Sum\")\n",
    "print(\"2. Difference\")\n",
    "print(\"3. Product\")\n",
    "print(\"4. Quotient\")\n",
    "choice = int(input())\n",
    "\n",
    "match choice:\n",
    "     case 1:   \n",
    "        print(f\"The sum is {x + y}.\")\n",
    "     case 2:\n",
    "        print(f\"The difference is {x - y}.\")\n",
    "     case 3:\n",
    "        print(f\"The product is {x * y}.\")\n",
    "     case 4:\n",
    "        print(f\"The quotient is {x // y}.\")\n"
   ]
  },
  {
   "cell_type": "markdown",
   "id": "6d4606de",
   "metadata": {},
   "source": [
    "`Write a Python script that asks the user for their name and age, then prints a message that tells them the year in which they will turn 100 years old`"
   ]
  },
  {
   "cell_type": "code",
   "execution_count": 14,
   "id": "150c8cb1",
   "metadata": {},
   "outputs": [
    {
     "name": "stdout",
     "output_type": "stream",
     "text": [
      "Siddhartha, age 20, will be hundred at year 2105.\n"
     ]
    }
   ],
   "source": [
    "name = input(\"Enter a name:\")\n",
    "age = int(input(\"Your age\"))\n",
    "Hyear = 2025 + (100 - age)\n",
    "print(f\"{name}, age {age}, will be hundred at year {Hyear}.\")"
   ]
  },
  {
   "cell_type": "markdown",
   "id": "3186606f",
   "metadata": {},
   "source": [
    "`WAP that converts tempreature from Fahrenheit to Celcius and vice versa, based on user input`"
   ]
  },
  {
   "cell_type": "code",
   "execution_count": null,
   "id": "8059eec4",
   "metadata": {},
   "outputs": [
    {
     "name": "stdout",
     "output_type": "stream",
     "text": [
      "300.0F --> 148.88888888888889\n"
     ]
    }
   ],
   "source": [
    "Temp = input(\"Celcius or Fahrenheit\")\n",
    "x = float(input())\n",
    "Temp = Temp.lower()\n",
    "if Temp == \"celcius\":\n",
    "    print(f\"{x}C --> {(x * (9/5)) + 32}\")\n",
    "if Temp == \"fahrenheit\":\n",
    "    print(f\"{x}F --> {(x - 32) * (5/9)}\")"
   ]
  },
  {
   "cell_type": "markdown",
   "id": "d240b1d8",
   "metadata": {},
   "source": [
    "`WAP that asks fot an age and prints \"Child\", if the age is less than 12, \"Teenager\" if the age is between 13 and 19, and \"Adult\" for ages 20 and above`"
   ]
  },
  {
   "cell_type": "code",
   "execution_count": 24,
   "id": "dcd2efc0",
   "metadata": {},
   "outputs": [
    {
     "name": "stdout",
     "output_type": "stream",
     "text": [
      "Adult\n"
     ]
    }
   ],
   "source": [
    "x = int(input())\n",
    "if x < 12:\n",
    "    print(\"Child\")\n",
    "elif x > 12 and x < 19:\n",
    "    print(\"Teenager\")\n",
    "elif x >19:\n",
    "    print(\"Adult\")\n"
   ]
  },
  {
   "cell_type": "markdown",
   "id": "5c567755",
   "metadata": {},
   "source": [
    "`WAP that takes a letter grade as input and prints the corresponding grade point average`"
   ]
  },
  {
   "cell_type": "code",
   "execution_count": 25,
   "id": "ccd09aa4",
   "metadata": {},
   "outputs": [
    {
     "name": "stdout",
     "output_type": "stream",
     "text": [
      "4.0\n"
     ]
    }
   ],
   "source": [
    "x = input()\n",
    "match x:\n",
    "    case \"A\":\n",
    "        print(\"4.0\")\n",
    "    case \"B\":\n",
    "        print(\"3.0\")\n",
    "    case \"C\":\n",
    "        print(\"2.0\")\n",
    "    case \"D\":\n",
    "        print(\"1.0\")\n",
    "    case _:\n",
    "        print(\"Invalid\")"
   ]
  },
  {
   "cell_type": "markdown",
   "id": "782671dc",
   "metadata": {},
   "source": [
    "`WAP to check for even and odd but check for valid integer before`"
   ]
  },
  {
   "cell_type": "code",
   "execution_count": 38,
   "id": "0016fb57",
   "metadata": {},
   "outputs": [
    {
     "name": "stdout",
     "output_type": "stream",
     "text": [
      "Zero\n"
     ]
    }
   ],
   "source": [
    "x = input(\"Enter\")\n",
    "\n",
    "if not(x.isdigit()):\n",
    "    print(\"Invalid, The input must be an integer.\")\n",
    "\n",
    "else:\n",
    "    x=int(x)\n",
    "    if x==0:\n",
    "        print(\"Zero\")\n",
    "    elif x % 2 == 0:\n",
    "        print(\"Even\")\n",
    "    else: \n",
    "        print(\"Odd\")\n"
   ]
  },
  {
   "cell_type": "markdown",
   "id": "f4621cc0",
   "metadata": {},
   "source": [
    "`WAP to check if a year is leap or not`"
   ]
  },
  {
   "cell_type": "code",
   "execution_count": 40,
   "id": "4fdd9da3",
   "metadata": {},
   "outputs": [
    {
     "name": "stdout",
     "output_type": "stream",
     "text": [
      "2025 is not a leap year\n"
     ]
    }
   ],
   "source": [
    "year = int(input())\n",
    "is_leap = False\n",
    "if year % 4 == 0:\n",
    "    is_leap = True\n",
    "if is_leap:\n",
    "    print(f\"{year} is a leap year\")\n",
    "else:\n",
    "    print(f\"{year} is not a leap year\")"
   ]
  }
 ],
 "metadata": {
  "kernelspec": {
   "display_name": "Python 3",
   "language": "python",
   "name": "python3"
  },
  "language_info": {
   "codemirror_mode": {
    "name": "ipython",
    "version": 3
   },
   "file_extension": ".py",
   "mimetype": "text/x-python",
   "name": "python",
   "nbconvert_exporter": "python",
   "pygments_lexer": "ipython3",
   "version": "3.13.5"
  }
 },
 "nbformat": 4,
 "nbformat_minor": 5
}
